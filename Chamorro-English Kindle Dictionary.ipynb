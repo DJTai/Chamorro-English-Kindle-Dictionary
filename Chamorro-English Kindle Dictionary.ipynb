{
 "cells": [
  {
   "cell_type": "markdown",
   "metadata": {},
   "source": [
    "Schyuler Lujan\n",
    "\n",
    "Chamorro-English Dictionary for Kindle - Version 1\n",
    "\n",
    "February 6, 2021\n",
    "\n",
    "Puts dictionary contents (terms and entries) into the proper format to create a kindle dictionary. See guidance at https://jakemccrary.com/blog/2020/11/11/creating-a-custom-kindle-dictionary/ for the other required files needed to create a full dictionary. This code is just the part that requires looping through the dictionary to put the appropriate tags around the terms and definitions."
   ]
  },
  {
   "cell_type": "raw",
   "metadata": {},
   "source": [
    "Sample entry for a kindle dictionary, which we will use as our guidance:\n",
    "\n",
    "<idx:entry name=\"english\" scriptable=\"yes\" spell=\"yes\">\n",
    "\n",
    "<idx:short><a id=\"1\"></a>\n",
    "\n",
    "<idx:orth value=\"aardvark\"><b>aard•vark</b>\n",
    "\n",
    "    <idx:infl>\n",
    "\n",
    "    <idx:iform value=\"aardvarks\"></idx:iform>\n",
    "\n",
    "    <idx:iform value=\"aardvark's\"></idx:iform> <idx:iform value=\"aardvarks'\"></idx:iform>\n",
    "\n",
    "    <idx:infl>\n",
    "\n",
    "<idx:iform value=\"uñas\" exact=\"yes\" />\n",
    "\n",
    "</idx:infl>\n",
    "\n",
    "</idx:orth>\n",
    "\n",
    "<p> A nocturnal burrowing mammal native to sub-Saharan Africa that feeds exclusively on ants and termites. </p>\n",
    "\n",
    "</idx:short>\n",
    "\n",
    "</idx:entry>\n",
    "\n",
    "Official guidance from https://kdp.amazon.com/en_US/help/topic/G2HXJS944GL88DNV"
   ]
  },
  {
   "cell_type": "code",
   "execution_count": null,
   "metadata": {},
   "outputs": [],
   "source": [
    "# import relevant libraries\n",
    "import pandas as pd\n",
    "import xlrd"
   ]
  },
  {
   "cell_type": "code",
   "execution_count": null,
   "metadata": {},
   "outputs": [],
   "source": [
    "# load chamorro english dictionary and convert to data frame\n",
    "wkbk = 'CH_ENG_Dictionary.xlsx'\n",
    "df = pd.read_excel(wkbk)"
   ]
  },
  {
   "cell_type": "code",
   "execution_count": null,
   "metadata": {},
   "outputs": [],
   "source": [
    "# look at df\n",
    "df"
   ]
  },
  {
   "cell_type": "code",
   "execution_count": null,
   "metadata": {},
   "outputs": [],
   "source": [
    "# create lists for the term and definition\n",
    "# note to self: dictionary will probably be better as we add more features\n",
    "\n",
    "term_list = df['Term'].values.tolist()\n",
    "definition_list = df['Full Definition'].values.tolist()"
   ]
  },
  {
   "cell_type": "code",
   "execution_count": null,
   "metadata": {},
   "outputs": [],
   "source": [
    "# check that lists are the same length\n",
    "# or else terms and definitions won't align properly\n",
    "\n",
    "if len(term_list) == len(definition_list):\n",
    "    print(\"Lists are same length\")\n",
    "else:\n",
    "    print(\"Lists are not the same length\")"
   ]
  },
  {
   "cell_type": "code",
   "execution_count": null,
   "metadata": {},
   "outputs": [],
   "source": [
    "# create our text file for writing\n",
    "kindle_file = open('content.txt', 'a', encoding='utf8')"
   ]
  },
  {
   "cell_type": "code",
   "execution_count": null,
   "metadata": {
    "scrolled": true
   },
   "outputs": [],
   "source": [
    "kindle_file.write(\n",
    "    '<html xmlns:math=\"http://exslt.org/math\" xmlns:svg=\"http://www.w3.org/2000/svg\"\\n'\n",
    "    'xmlns:tl=\"https://kindlegen.s3.amazonaws.com/AmazonKindlePublishingGuidelines.pdf\"\\n'\n",
    "    'xmlns:saxon=\"http://saxon.sf.net/\" xmlns:xs=\"http://www.w3.org/2001/XMLSchema\" xmlns:xsi=\"http://www.w3.org/2001/XMLSchema-instance\"\\n'\n",
    "    'xmlns:cx=\"https://kindlegen.s3.amazonaws.com/AmazonKindlePublishingGuidelines.pdf\"\\n'\n",
    "    'xmlns:dc=\"http://purl.org/dc/elements/1.1/\"\\n'\n",
    "    'xmlns:mbp=\"https://kindlegen.s3.amazonaws.com/AmazonKindlePublishingGuidelines.pdf\"\\n'\n",
    "    'xmlns:mmc=\"https://kindlegen.s3.amazonaws.com/AmazonKindlePublishingGuidelines.pdf\" \\n'\n",
    "    'xmlns:idx=\"https://kindlegen.s3.amazonaws.com/AmazonKindlePublishingGuidelines.pdf\">\\n'\n",
    "    '<head><meta http-equiv=\"Content-Type\" content=\"text/html; charset=utf-8\"></head>\\n'\n",
    "    '<body>\\n'\n",
    ")"
   ]
  },
  {
   "cell_type": "code",
   "execution_count": null,
   "metadata": {},
   "outputs": [],
   "source": [
    "# loop thru lists and write terms and definitions to file\n",
    "# dictionary will prob be better in future\n",
    "\n",
    "i = 0\n",
    "for term in term_list:\n",
    "    i += 1\n",
    "    kindle_file.write(\n",
    "        '<idx:entry name=\"chamorro\" scriptable=\"yes\" spell=\"yes\">\\n'\n",
    "        f'<idx:short><a id=\"{i}\"></a>\\n'\n",
    "        f'<idx:orth value=\"{term}\"><b>{term}</b>\\n'\n",
    "        f'<idx:iform value=\"{term}\" exact=\"yes\" />\\n'\n",
    "        '</idx:infl>\\n'\n",
    "        '</idx:orth>\\n'\n",
    "        f'<p>{definition_list[i-1]}</p>\\n'\n",
    "        '</idx:short>\\n'\n",
    "        '</idx:entry>\\n'\n",
    "    )"
   ]
  },
  {
   "cell_type": "code",
   "execution_count": null,
   "metadata": {},
   "outputs": [],
   "source": [
    "kindle_file.write(\n",
    "    '</mbp:frameset>\\n'\n",
    "    '</body>\\n'\n",
    "    '</html>\\n'\n",
    ")"
   ]
  },
  {
   "cell_type": "code",
   "execution_count": null,
   "metadata": {},
   "outputs": [],
   "source": [
    "kindle_file.close()"
   ]
  }
 ],
 "metadata": {
  "kernelspec": {
   "display_name": "Python 3",
   "language": "python",
   "name": "python3"
  },
  "language_info": {
   "codemirror_mode": {
    "name": "ipython",
    "version": 3
   },
   "file_extension": ".py",
   "mimetype": "text/x-python",
   "name": "python",
   "nbconvert_exporter": "python",
   "pygments_lexer": "ipython3",
   "version": "3.7.3"
  }
 },
 "nbformat": 4,
 "nbformat_minor": 4
}
